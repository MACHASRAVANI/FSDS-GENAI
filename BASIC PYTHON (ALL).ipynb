{
 "cells": [
  {
   "cell_type": "markdown",
   "id": "38443a09-9ef4-4fe8-b9c8-179da0f623ba",
   "metadata": {},
   "source": [
    "# What is python"
   ]
  },
  {
   "cell_type": "raw",
   "id": "707b30aa-8ab1-47e0-8b1c-b62c15ac14f5",
   "metadata": {},
   "source": [
    "#Python is a high-level, general-purpose programming language known for its simplicity and readability. It was created by Guido van Rossum and first released in 1991. Python is widely used for a variety of applications, including:\n",
    "\n",
    "🔧 Common Uses of Python\n",
    "Web Development (e.g., with Django, Flask)\n",
    "\n",
    "Data Science & Machine Learning (e.g., with pandas, NumPy, scikit-learn, TensorFlow)\n",
    "\n",
    "Scripting & Automation (automating tasks or workflows)\n",
    "\n",
    "Software Development (writing desktop or server applications)\n",
    "\n",
    "Cybersecurity & Hacking\n",
    "\n",
    "Game Development (e.g., with Pygame)\n",
    "\n",
    "Artificial Intelligence\n",
    "\n",
    "✅ Key Features of Python\n",
    "Readable Syntax: Easy to write and understand\n",
    "\n",
    "Interpreted Language: Runs code line-by-line without compilation\n",
    "\n",
    "Dynamically Typed: No need to declare variable types\n",
    "\n",
    "Extensive Libraries: Huge ecosystem of packages\n",
    "\n",
    "Cross-Platform: Works on Windows, macOS, Linux, etc.\n",
    "\n"
   ]
  },
  {
   "cell_type": "code",
   "execution_count": 5,
   "id": "65601586-e52b-4740-a764-ad571b5fe3d5",
   "metadata": {},
   "outputs": [
    {
     "name": "stdout",
     "output_type": "stream",
     "text": [
      "Hello, Sravani\n"
     ]
    }
   ],
   "source": [
    "# A simple Python program\n",
    "name = \"Sravani\"\n",
    "print(\"Hello,\", name)\n"
   ]
  },
  {
   "cell_type": "markdown",
   "id": "99ae436d-6a22-4c54-a292-f0e63afd5480",
   "metadata": {},
   "source": [
    "# What is a Variable in python"
   ]
  },
  {
   "cell_type": "raw",
   "id": "bfaba2aa-2052-4a07-8723-582d493c71e4",
   "metadata": {},
   "source": [
    "A variable in Python is a name that refers to a value stored in memory. Think of it like a container or label you attach to a value, so you can use or change that value later in your program."
   ]
  },
  {
   "cell_type": "raw",
   "id": "00552281-5004-4b1c-b1a7-9e9ed466c629",
   "metadata": {},
   "source": [
    " Why Do We Use Variables?\n",
    "To store data (like numbers, text, or other types).\n",
    "\n",
    "To reuse values later.\n",
    "\n",
    "To make code readable and flexible.\n",
    "\n"
   ]
  },
  {
   "cell_type": "code",
   "execution_count": 12,
   "id": "25bcb48c-0a4d-44a4-a753-425d87ca523b",
   "metadata": {},
   "outputs": [],
   "source": [
    "x = 10\n",
    "name = \"Sravani\"\n",
    "price = 99.99\n"
   ]
  },
  {
   "cell_type": "code",
   "execution_count": 14,
   "id": "1286fa84-8184-4bc4-a5fb-42ec23f5bd23",
   "metadata": {},
   "outputs": [
    {
     "data": {
      "text/plain": [
       "10"
      ]
     },
     "execution_count": 14,
     "metadata": {},
     "output_type": "execute_result"
    }
   ],
   "source": [
    "x"
   ]
  },
  {
   "cell_type": "code",
   "execution_count": 16,
   "id": "9ac0de17-928c-411d-bb9c-2faecfadcb35",
   "metadata": {},
   "outputs": [
    {
     "data": {
      "text/plain": [
       "'Sravani'"
      ]
     },
     "execution_count": 16,
     "metadata": {},
     "output_type": "execute_result"
    }
   ],
   "source": [
    "name"
   ]
  },
  {
   "cell_type": "code",
   "execution_count": 18,
   "id": "789f2103-494c-4031-8a16-29247524010d",
   "metadata": {},
   "outputs": [
    {
     "data": {
      "text/plain": [
       "99.99"
      ]
     },
     "execution_count": 18,
     "metadata": {},
     "output_type": "execute_result"
    }
   ],
   "source": [
    "price"
   ]
  },
  {
   "cell_type": "raw",
   "id": "7d49b3dd-9303-4b01-99e9-5de1772b5fc5",
   "metadata": {},
   "source": [
    " Rules for Naming Variables\n",
    "Must start with a letter or an underscore (_)\n",
    "\n",
    "Cannot start with a number\n",
    "\n",
    "Can only contain letters, numbers, and underscores\n",
    "\n",
    "Are case-sensitive (age ≠ Age)\n",
    "\n"
   ]
  },
  {
   "cell_type": "code",
   "execution_count": 20,
   "id": "61aba436-1bdc-4a66-9e82-4fd12d9648a6",
   "metadata": {},
   "outputs": [],
   "source": [
    "#Valid\n",
    "name = \"John\"\n",
    "_age = 25\n",
    "user1 = \"Alice\"\n"
   ]
  },
  {
   "cell_type": "code",
   "execution_count": 22,
   "id": "c0ead985-6fac-45ca-84cb-7c53b9f3ec5d",
   "metadata": {},
   "outputs": [
    {
     "data": {
      "text/plain": [
       "'John'"
      ]
     },
     "execution_count": 22,
     "metadata": {},
     "output_type": "execute_result"
    }
   ],
   "source": [
    "name"
   ]
  },
  {
   "cell_type": "code",
   "execution_count": 24,
   "id": "dd81e369-08ab-47a1-b0e8-41811dd1c9b8",
   "metadata": {},
   "outputs": [
    {
     "data": {
      "text/plain": [
       "25"
      ]
     },
     "execution_count": 24,
     "metadata": {},
     "output_type": "execute_result"
    }
   ],
   "source": [
    "_age"
   ]
  },
  {
   "cell_type": "code",
   "execution_count": 26,
   "id": "44eb7d45-6166-46ae-b382-99520d14ca12",
   "metadata": {},
   "outputs": [
    {
     "data": {
      "text/plain": [
       "'Alice'"
      ]
     },
     "execution_count": 26,
     "metadata": {},
     "output_type": "execute_result"
    }
   ],
   "source": [
    "user1"
   ]
  },
  {
   "cell_type": "code",
   "execution_count": 28,
   "id": "0fa2d340-76a1-4364-bf42-63b271704b25",
   "metadata": {},
   "outputs": [
    {
     "ename": "SyntaxError",
     "evalue": "invalid decimal literal (1169397660.py, line 2)",
     "output_type": "error",
     "traceback": [
      "\u001b[1;36m  Cell \u001b[1;32mIn[28], line 2\u001b[1;36m\u001b[0m\n\u001b[1;33m    1name = \"Bob\"     # Starts with number\u001b[0m\n\u001b[1;37m    ^\u001b[0m\n\u001b[1;31mSyntaxError\u001b[0m\u001b[1;31m:\u001b[0m invalid decimal literal\n"
     ]
    }
   ],
   "source": [
    "#Invalid code\n",
    "1name = \"Bob\"     # Starts with number\n",
    "user-name = \"Tom\" # Hyphens not allowed\n"
   ]
  },
  {
   "cell_type": "markdown",
   "id": "297b5258-a77e-4e43-a790-b805f6232f1d",
   "metadata": {},
   "source": [
    "# Examples of Using Variables"
   ]
  },
  {
   "cell_type": "code",
   "execution_count": 31,
   "id": "0a35919f-b05a-47cc-9b0b-ce72a0dbe072",
   "metadata": {},
   "outputs": [
    {
     "name": "stdout",
     "output_type": "stream",
     "text": [
      "15\n"
     ]
    }
   ],
   "source": [
    "#1. Storing a number and using it in math\n",
    "a = 5\n",
    "b = 10\n",
    "sum = a + b\n",
    "print(sum)  # Output: 15\n"
   ]
  },
  {
   "cell_type": "code",
   "execution_count": 33,
   "id": "51ec0465-31b3-44de-a35e-e1f0a9f57512",
   "metadata": {},
   "outputs": [
    {
     "name": "stdout",
     "output_type": "stream",
     "text": [
      "Hello Sravani\n"
     ]
    }
   ],
   "source": [
    "#2. Storing a string and printing it\n",
    "greeting = \"Hello\"\n",
    "name = \"Sravani\"\n",
    "print(greeting + \" \" + name)  # Output: Hello Sravani\n"
   ]
  },
  {
   "cell_type": "code",
   "execution_count": 35,
   "id": "fb026fdc-6f44-4d20-b7b1-8e4105fa19d4",
   "metadata": {},
   "outputs": [
    {
     "name": "stdout",
     "output_type": "stream",
     "text": [
      "2\n"
     ]
    }
   ],
   "source": [
    "#3. Updating variable value\n",
    "count = 1\n",
    "count = count + 1\n",
    "print(count)  # Output: 2\n"
   ]
  },
  {
   "cell_type": "code",
   "execution_count": 37,
   "id": "3e8d3f99-fc3a-4c94-957c-d3fa63034690",
   "metadata": {},
   "outputs": [
    {
     "name": "stdout",
     "output_type": "stream",
     "text": [
      "Employee: Sravani\n",
      "Weekly Salary: 40000\n"
     ]
    }
   ],
   "source": [
    "#💡 Real-Life Example (Salary Calculation)\n",
    "name = \"Sravani\"\n",
    "hours_worked = 40\n",
    "hourly_rate = 1000\n",
    "salary = hours_worked * hourly_rate\n",
    "\n",
    "print(\"Employee:\", name)\n",
    "print(\"Weekly Salary:\", salary)\n"
   ]
  },
  {
   "cell_type": "markdown",
   "id": "fdfd6865-017d-4051-8d9b-5d7cf3ccb1b2",
   "metadata": {},
   "source": [
    "# ✅ Basic Examples"
   ]
  },
  {
   "cell_type": "code",
   "execution_count": 42,
   "id": "f3388435-efb1-442e-ab44-de340c1a68fc",
   "metadata": {},
   "outputs": [
    {
     "name": "stdout",
     "output_type": "stream",
     "text": [
      "Your age is: 22\n"
     ]
    }
   ],
   "source": [
    "#1. Integer Variable\n",
    "\n",
    "age = 22\n",
    "print(\"Your age is:\", age)\n"
   ]
  },
  {
   "cell_type": "code",
   "execution_count": 44,
   "id": "6ad1c79c-07ba-4ba8-ba46-0fafd327616e",
   "metadata": {},
   "outputs": [
    {
     "name": "stdout",
     "output_type": "stream",
     "text": [
      "Your height is: 5.8 feet\n"
     ]
    }
   ],
   "source": [
    "#2. Float Variable\n",
    "height = 5.8\n",
    "print(\"Your height is:\", height, \"feet\")\n"
   ]
  },
  {
   "cell_type": "code",
   "execution_count": 46,
   "id": "b8b2cedb-2db9-4ae4-a72f-e2a2a0de7f4e",
   "metadata": {},
   "outputs": [
    {
     "name": "stdout",
     "output_type": "stream",
     "text": [
      "Hello Sravani\n"
     ]
    }
   ],
   "source": [
    "#3. String Variable\n",
    "name = \"Sravani\"\n",
    "print(\"Hello\", name)\n"
   ]
  },
  {
   "cell_type": "code",
   "execution_count": 50,
   "id": "3d6129b5-e40d-4d4a-9456-fce32616c14a",
   "metadata": {},
   "outputs": [
    {
     "name": "stdout",
     "output_type": "stream",
     "text": [
      "Login status: True\n"
     ]
    }
   ],
   "source": [
    "#4. Boolean Variable\n",
    "is_logged_in = True\n",
    "print(\"Login status:\", is_logged_in)\n"
   ]
  },
  {
   "cell_type": "code",
   "execution_count": 52,
   "id": "b9642e96-5f29-41d6-bbfd-c558fd2bb433",
   "metadata": {},
   "outputs": [
    {
     "name": "stdout",
     "output_type": "stream",
     "text": [
      "1 2 3\n"
     ]
    }
   ],
   "source": [
    "#5. Multiple Variables in One Line\n",
    "x, y, z = 1, 2, 3\n",
    "print(x, y, z)\n",
    "\n"
   ]
  },
  {
   "cell_type": "code",
   "execution_count": 54,
   "id": "61b26d83-6e73-41a6-b864-2450bfde970a",
   "metadata": {},
   "outputs": [
    {
     "name": "stdout",
     "output_type": "stream",
     "text": [
      "100 100 100\n"
     ]
    }
   ],
   "source": [
    "#6. Same Value to Multiple Variables\n",
    "a = b = c = 100\n",
    "print(a, b, c)\n"
   ]
  },
  {
   "cell_type": "code",
   "execution_count": 56,
   "id": "f0c08e9b-1465-4480-878b-e2b08a55c783",
   "metadata": {},
   "outputs": [
    {
     "name": "stdout",
     "output_type": "stream",
     "text": [
      "Total bill: 550\n"
     ]
    }
   ],
   "source": [
    "#7. Shopping Cart Calculation\n",
    "item1_price = 200\n",
    "item2_price = 350\n",
    "total = item1_price + item2_price\n",
    "print(\"Total bill:\", total)\n"
   ]
  },
  {
   "cell_type": "code",
   "execution_count": 58,
   "id": "49fbae62-00a1-4f9d-b323-a2e7bb3dab20",
   "metadata": {},
   "outputs": [
    {
     "name": "stdout",
     "output_type": "stream",
     "text": [
      "Average marks: 75.0\n"
     ]
    }
   ],
   "source": [
    "#8. Student Marks Example\n",
    "math = 80\n",
    "science = 70\n",
    "average = (math + science) / 2\n",
    "print(\"Average marks:\", average)\n",
    "\n"
   ]
  },
  {
   "cell_type": "code",
   "execution_count": 60,
   "id": "f040163e-9e5f-4737-9114-2be492749066",
   "metadata": {},
   "outputs": [
    {
     "name": "stdout",
     "output_type": "stream",
     "text": [
      "Area of circle: 78.54\n"
     ]
    }
   ],
   "source": [
    "#9. Area of a Circle\n",
    "pi = 3.1416\n",
    "radius = 5\n",
    "area = pi * radius * radius\n",
    "print(\"Area of circle:\", area)\n"
   ]
  },
  {
   "cell_type": "code",
   "execution_count": 62,
   "id": "34d623dd-5009-4f2a-b19f-6591d8261828",
   "metadata": {},
   "outputs": [
    {
     "name": "stdout",
     "output_type": "stream",
     "text": [
      "Full Name: Sita Rao\n"
     ]
    }
   ],
   "source": [
    "#10. Concatenating Strings\n",
    "first_name = \"Sita\"\n",
    "last_name = \"Rao\"\n",
    "full_name = first_name + \" \" + last_name\n",
    "print(\"Full Name:\", full_name)\n"
   ]
  },
  {
   "cell_type": "code",
   "execution_count": 64,
   "id": "97353aef-50ec-4142-8426-c695ba001cb9",
   "metadata": {},
   "outputs": [
    {
     "name": "stdin",
     "output_type": "stream",
     "text": [
      "Enter your name:  sravani\n",
      "Enter your age:  21\n"
     ]
    },
    {
     "name": "stdout",
     "output_type": "stream",
     "text": [
      "Hello sravani! You are 21 years old.\n"
     ]
    }
   ],
   "source": [
    "#11. Using Variables with Input\n",
    "name = input(\"Enter your name: \")\n",
    "age = input(\"Enter your age: \")\n",
    "print(\"Hello\", name + \"! You are \" + age + \" years old.\")\n"
   ]
  },
  {
   "cell_type": "markdown",
   "id": "77d86846-e655-4c56-a713-c4037aabfd06",
   "metadata": {},
   "source": [
    "# Data Collection with Lists (Variable as a container)"
   ]
  },
  {
   "cell_type": "code",
   "execution_count": 67,
   "id": "91c3ca0c-0145-41a1-9f25-4a1df1fa6538",
   "metadata": {},
   "outputs": [
    {
     "name": "stdout",
     "output_type": "stream",
     "text": [
      "Fruits list: ['apple', 'banana', 'mango']\n"
     ]
    }
   ],
   "source": [
    "#12. Storing Multiple Items\n",
    "fruits = [\"apple\", \"banana\", \"mango\"]\n",
    "print(\"Fruits list:\", fruits)\n"
   ]
  },
  {
   "cell_type": "code",
   "execution_count": 69,
   "id": "56e43b82-1a0f-4a17-bf4e-c6a0a2615f71",
   "metadata": {},
   "outputs": [
    {
     "name": "stdout",
     "output_type": "stream",
     "text": [
      "First fruit: apple\n"
     ]
    }
   ],
   "source": [
    "#13. Accessing Individual Items\n",
    "print(\"First fruit:\", fruits[0])  # Output: apple\n"
   ]
  },
  {
   "cell_type": "markdown",
   "id": "85dfa235-fbbd-4e87-a48f-c9f54e1042d7",
   "metadata": {},
   "source": [
    "# 🔁 Updating Variables"
   ]
  },
  {
   "cell_type": "code",
   "execution_count": 72,
   "id": "ae527d73-a6b6-44b3-ab45-2ac2fe711e09",
   "metadata": {},
   "outputs": [
    {
     "name": "stdout",
     "output_type": "stream",
     "text": [
      "Counter: 1\n"
     ]
    }
   ],
   "source": [
    "#14. Incrementing a Value\n",
    "counter = 0\n",
    "counter = counter + 1\n",
    "print(\"Counter:\", counter)\n"
   ]
  },
  {
   "cell_type": "code",
   "execution_count": 74,
   "id": "b0809042-b6e7-4706-b1cc-05a904fe27e0",
   "metadata": {},
   "outputs": [
    {
     "name": "stdout",
     "output_type": "stream",
     "text": [
      "Area of rectangle: 50\n"
     ]
    }
   ],
   "source": [
    "#15. Using Variables in a Formula\n",
    "length = 10\n",
    "width = 5\n",
    "area = length * width\n",
    "print(\"Area of rectangle:\", area)\n"
   ]
  },
  {
   "cell_type": "markdown",
   "id": "2a61fa63-96e3-48f3-9b26-f72282286e05",
   "metadata": {},
   "source": [
    "# 🧠 What is a Data Type in Python?"
   ]
  },
  {
   "cell_type": "raw",
   "id": "b3395ffa-0ca8-45dd-aab8-528b8674f70f",
   "metadata": {},
   "source": [
    "A data type in Python tells us what kind of value a variable holds — like a number, text, list, etc.\n",
    "\n",
    "Think of data types as different types of containers for different types of data.\n",
    "\n"
   ]
  },
  {
   "cell_type": "markdown",
   "id": "7073c54b-b79a-486a-81e8-e599547191e7",
   "metadata": {},
   "source": [
    "# 📦 Why Data Types are Important"
   ]
  },
  {
   "cell_type": "raw",
   "id": "acd79a71-cc0f-4d53-bc03-81d92cb9ae4c",
   "metadata": {},
   "source": [
    "#Help Python understand how to store and use the value.\n",
    "\n",
    "Allow you to perform specific operations depending on the type.\n",
    "\n",
    "Prevent errors by restricting invalid operations."
   ]
  },
  {
   "cell_type": "code",
   "execution_count": 79,
   "id": "33dbb040-1c87-4227-85e5-0dbe63964a2c",
   "metadata": {},
   "outputs": [
    {
     "name": "stdout",
     "output_type": "stream",
     "text": [
      "<class 'int'>\n"
     ]
    }
   ],
   "source": [
    "#1. Integer\n",
    "age = 25\n",
    "print(type(age))  # Output: <class 'int'>\n"
   ]
  },
  {
   "cell_type": "code",
   "execution_count": 81,
   "id": "ab0778f8-5916-4a03-9e26-f7712a214677",
   "metadata": {},
   "outputs": [
    {
     "name": "stdout",
     "output_type": "stream",
     "text": [
      "<class 'float'>\n"
     ]
    }
   ],
   "source": [
    "#2. Float\n",
    "price = 49.99\n",
    "print(type(price))  # Output: <class 'float'>\n"
   ]
  },
  {
   "cell_type": "code",
   "execution_count": 83,
   "id": "7845af96-8afd-4822-89ac-1bcbbd81a679",
   "metadata": {},
   "outputs": [
    {
     "name": "stdout",
     "output_type": "stream",
     "text": [
      "<class 'str'>\n"
     ]
    }
   ],
   "source": [
    "#3. String\n",
    "name = \"Sravani\"\n",
    "print(type(name))  # Output: <class 'str'>\n"
   ]
  },
  {
   "cell_type": "code",
   "execution_count": 85,
   "id": "da049e83-a734-43f6-b999-169d2990c6ab",
   "metadata": {},
   "outputs": [
    {
     "name": "stdout",
     "output_type": "stream",
     "text": [
      "<class 'bool'>\n"
     ]
    }
   ],
   "source": [
    "#4. Boolean\n",
    "is_online = True\n",
    "print(type(is_online))  # Output: <class 'bool'>\n"
   ]
  },
  {
   "cell_type": "code",
   "execution_count": 87,
   "id": "413a4eae-9f24-4e08-bb19-d6c3763ab040",
   "metadata": {},
   "outputs": [
    {
     "name": "stdout",
     "output_type": "stream",
     "text": [
      "<class 'tuple'>\n"
     ]
    }
   ],
   "source": [
    "#5. List\n",
    "coordinates = (10, 20)\n",
    "print(type(coordinates))  # Output: <class 'tuple'>\n",
    "\n"
   ]
  },
  {
   "cell_type": "code",
   "execution_count": 89,
   "id": "9ee7b329-244c-4e1b-8895-99975ace4f63",
   "metadata": {},
   "outputs": [
    {
     "name": "stdout",
     "output_type": "stream",
     "text": [
      "{1, 2, 3}\n",
      "<class 'set'>\n"
     ]
    }
   ],
   "source": [
    "#7. Dictionary\n",
    "unique_numbers = {1, 2, 3, 3}\n",
    "print(unique_numbers)  # Output: {1, 2, 3}\n",
    "print(type(unique_numbers))  # <class 'set'>\n"
   ]
  },
  {
   "cell_type": "code",
   "execution_count": 93,
   "id": "16b2f99d-2071-4470-9adb-d397f3404898",
   "metadata": {},
   "outputs": [
    {
     "name": "stdout",
     "output_type": "stream",
     "text": [
      "<class 'NoneType'>\n"
     ]
    }
   ],
   "source": [
    "#9. NoneType\n",
    "x = None\n",
    "print(type(x))  # Output: <class 'NoneType'>\n"
   ]
  },
  {
   "cell_type": "code",
   "execution_count": 95,
   "id": "e083e03a-caba-4707-ae1f-b273281a4630",
   "metadata": {},
   "outputs": [
    {
     "name": "stdout",
     "output_type": "stream",
     "text": [
      "<class 'int'>\n"
     ]
    }
   ],
   "source": [
    "#How to Check the Data Type\n",
    "#Use the built-in type() function:\n",
    "\n",
    "value = 10\n",
    "print(type(value))  # Output: <class 'int'>\n",
    "\n"
   ]
  },
  {
   "cell_type": "markdown",
   "id": "a5a2b566-8b33-42d7-97ce-da4233bf3fa3",
   "metadata": {},
   "source": [
    "# ✅ Built-in Data Types in Python\n"
   ]
  },
  {
   "cell_type": "markdown",
   "id": "f93c542d-e03e-4118-a3a8-d9f53427cd35",
   "metadata": {},
   "source": [
    "# 🔢 1. Numeric Types\n"
   ]
  },
  {
   "cell_type": "code",
   "execution_count": 99,
   "id": "9f869605-747e-4717-9851-f95c22efb2b1",
   "metadata": {},
   "outputs": [],
   "source": [
    "a = 10        # int\n",
    "b = 3.14      # float\n",
    "c = 2 + 3j    # complex\n"
   ]
  },
  {
   "cell_type": "code",
   "execution_count": 101,
   "id": "c274c018-49d4-41bf-9367-75bc13215ae5",
   "metadata": {},
   "outputs": [
    {
     "data": {
      "text/plain": [
       "10"
      ]
     },
     "execution_count": 101,
     "metadata": {},
     "output_type": "execute_result"
    }
   ],
   "source": [
    "a\n"
   ]
  },
  {
   "cell_type": "code",
   "execution_count": 103,
   "id": "64ef1c58-e4ba-464b-9794-2967a887c95a",
   "metadata": {},
   "outputs": [
    {
     "data": {
      "text/plain": [
       "3.14"
      ]
     },
     "execution_count": 103,
     "metadata": {},
     "output_type": "execute_result"
    }
   ],
   "source": [
    "b"
   ]
  },
  {
   "cell_type": "code",
   "execution_count": 105,
   "id": "7637cfe5-d75e-4cfe-ada6-27ce01b86169",
   "metadata": {},
   "outputs": [
    {
     "data": {
      "text/plain": [
       "(2+3j)"
      ]
     },
     "execution_count": 105,
     "metadata": {},
     "output_type": "execute_result"
    }
   ],
   "source": [
    "c"
   ]
  },
  {
   "cell_type": "markdown",
   "id": "ab5df8d5-7622-47f7-80a6-545a95aa27e6",
   "metadata": {},
   "source": [
    "# 🔤 2. Text Type\n"
   ]
  },
  {
   "cell_type": "code",
   "execution_count": 108,
   "id": "3a2e669b-3284-4bba-aa30-9e3507a26ba6",
   "metadata": {},
   "outputs": [],
   "source": [
    "name = \"Sravani\"\n"
   ]
  },
  {
   "cell_type": "code",
   "execution_count": 110,
   "id": "96ffc65c-f454-46a7-a49c-293677928e2c",
   "metadata": {},
   "outputs": [
    {
     "data": {
      "text/plain": [
       "'Sravani'"
      ]
     },
     "execution_count": 110,
     "metadata": {},
     "output_type": "execute_result"
    }
   ],
   "source": [
    "name"
   ]
  },
  {
   "cell_type": "markdown",
   "id": "a700a7a2-f168-4e4d-918a-e44bdd312e25",
   "metadata": {},
   "source": [
    "# ✅ 3. Boolean Type\n"
   ]
  },
  {
   "cell_type": "code",
   "execution_count": 115,
   "id": "2555dcfe-beb1-417a-b021-122bbb2a603d",
   "metadata": {},
   "outputs": [],
   "source": [
    "is_valid = True\n"
   ]
  },
  {
   "cell_type": "code",
   "execution_count": 117,
   "id": "cedc73ea-fbc1-4d44-bbf2-f374b843c4b6",
   "metadata": {},
   "outputs": [
    {
     "data": {
      "text/plain": [
       "True"
      ]
     },
     "execution_count": 117,
     "metadata": {},
     "output_type": "execute_result"
    }
   ],
   "source": [
    "is_valid"
   ]
  },
  {
   "cell_type": "markdown",
   "id": "3620f8f4-f577-48bc-94bf-6fbc102d03d6",
   "metadata": {},
   "source": [
    "# 📦 4. Sequence Types\n"
   ]
  },
  {
   "cell_type": "code",
   "execution_count": 120,
   "id": "70f894a1-e636-44e1-8d0f-333274435f92",
   "metadata": {},
   "outputs": [],
   "source": [
    "fruits = [\"apple\", \"banana\", \"cherry\"]  # list\n",
    "colors = (\"red\", \"blue\")                # tuple\n",
    "nums = range(5)                         # range\n"
   ]
  },
  {
   "cell_type": "code",
   "execution_count": 122,
   "id": "402a16bf-b3d6-4e1a-a900-816eb934604a",
   "metadata": {},
   "outputs": [
    {
     "data": {
      "text/plain": [
       "['apple', 'banana', 'cherry']"
      ]
     },
     "execution_count": 122,
     "metadata": {},
     "output_type": "execute_result"
    }
   ],
   "source": [
    "fruits"
   ]
  },
  {
   "cell_type": "code",
   "execution_count": 124,
   "id": "f8e68aa0-3403-4f8f-a5d6-7670840c2f3c",
   "metadata": {},
   "outputs": [
    {
     "data": {
      "text/plain": [
       "('red', 'blue')"
      ]
     },
     "execution_count": 124,
     "metadata": {},
     "output_type": "execute_result"
    }
   ],
   "source": [
    "colors"
   ]
  },
  {
   "cell_type": "code",
   "execution_count": 126,
   "id": "8cc79e64-c32e-40e3-8172-4fa024f782d9",
   "metadata": {},
   "outputs": [
    {
     "data": {
      "text/plain": [
       "range(0, 5)"
      ]
     },
     "execution_count": 126,
     "metadata": {},
     "output_type": "execute_result"
    }
   ],
   "source": [
    "nums"
   ]
  },
  {
   "cell_type": "markdown",
   "id": "d65690d3-eef6-4965-be29-152099f8f63e",
   "metadata": {},
   "source": [
    "# 5. Mapping Type"
   ]
  },
  {
   "cell_type": "code",
   "execution_count": 129,
   "id": "be04af76-8fa7-4379-8610-49eaabf8645d",
   "metadata": {},
   "outputs": [],
   "source": [
    " person = {\"name\": \"Ravi\", \"age\": 25}\n"
   ]
  },
  {
   "cell_type": "code",
   "execution_count": 131,
   "id": "c01be09f-be52-46fd-99db-d279e9ff3d9e",
   "metadata": {},
   "outputs": [
    {
     "data": {
      "text/plain": [
       "{'name': 'Ravi', 'age': 25}"
      ]
     },
     "execution_count": 131,
     "metadata": {},
     "output_type": "execute_result"
    }
   ],
   "source": [
    "person"
   ]
  },
  {
   "cell_type": "markdown",
   "id": "6320f524-4a21-4160-b91d-e61372c8570e",
   "metadata": {},
   "source": [
    "# 🌐 6. Set Types"
   ]
  },
  {
   "cell_type": "raw",
   "id": "44101b20-6c38-422e-aae4-bb552d07d45f",
   "metadata": {},
   "source": [
    "s = {1, 2, 3}\n",
    "f = frozenset([1, 2, 3])\n"
   ]
  },
  {
   "cell_type": "code",
   "execution_count": 136,
   "id": "90f59552-29b4-446f-824d-eff675436651",
   "metadata": {},
   "outputs": [
    {
     "data": {
      "text/plain": [
       "{1, 2, 3}"
      ]
     },
     "execution_count": 136,
     "metadata": {},
     "output_type": "execute_result"
    }
   ],
   "source": [
    "s"
   ]
  },
  {
   "cell_type": "code",
   "execution_count": 138,
   "id": "5c709995-11b6-4645-b86b-eecce7cf27ef",
   "metadata": {},
   "outputs": [
    {
     "data": {
      "text/plain": [
       "frozenset({1, 2, 3})"
      ]
     },
     "execution_count": 138,
     "metadata": {},
     "output_type": "execute_result"
    }
   ],
   "source": [
    "f"
   ]
  },
  {
   "cell_type": "markdown",
   "id": "8a2e5f74-696b-4069-94cd-8429975309d4",
   "metadata": {},
   "source": [
    "# ⚫ 7. None Type"
   ]
  },
  {
   "cell_type": "code",
   "execution_count": 153,
   "id": "f6c621e6-2d55-499d-a9e5-192b6e5c4099",
   "metadata": {},
   "outputs": [],
   "source": [
    "x = None\n",
    "x"
   ]
  },
  {
   "cell_type": "markdown",
   "id": "2e089f31-81c1-47c4-b97c-386d8787d220",
   "metadata": {},
   "source": [
    "# INPUTS AND OUTPUTS IN PYTHON"
   ]
  },
  {
   "cell_type": "raw",
   "id": "6e5e7d10-bfc6-4ab1-99f0-2ba396a47a98",
   "metadata": {},
   "source": [
    "In Python, input means taking data from the user, and output means displaying results to the user.\n",
    "\n"
   ]
  },
  {
   "cell_type": "raw",
   "id": "3d66a8ca-dcbb-4ee1-b69f-2099d9d72ef4",
   "metadata": {},
   "source": [
    "#.🟩 1. print() — Output Function\n",
    "The print() function is used to display text or variables on the screen.\n",
    "\n"
   ]
  },
  {
   "cell_type": "raw",
   "id": "2259f1b0-e1f6-4310-9e4d-15de1cdbb724",
   "metadata": {},
   "source": [
    "#✅ Syntax:\n",
    "\n",
    "print(value1, value2, ..., sep=' ', end='\\n')\n"
   ]
  },
  {
   "cell_type": "code",
   "execution_count": 161,
   "id": "3b7656ab-ba38-40cf-a439-70361f2e5232",
   "metadata": {},
   "outputs": [
    {
     "name": "stdout",
     "output_type": "stream",
     "text": [
      "Hello Sravani\n"
     ]
    }
   ],
   "source": [
    "#✅ Example:\n",
    "name = \"Sravani\"\n",
    "print(\"Hello\", name)\n"
   ]
  },
  {
   "cell_type": "markdown",
   "id": "fbbdb046-d5bf-46ab-9ae9-cfd9181f530c",
   "metadata": {},
   "source": [
    "# 🔹 Printing Multiple Values\n",
    "\n"
   ]
  },
  {
   "cell_type": "code",
   "execution_count": 164,
   "id": "b4fcd6ec-c6a9-47a0-ab71-511608f82999",
   "metadata": {},
   "outputs": [
    {
     "name": "stdout",
     "output_type": "stream",
     "text": [
      "Sum is 30\n"
     ]
    }
   ],
   "source": [
    "a = 10\n",
    "b = 20\n",
    "print(\"Sum is\", a + b)\n"
   ]
  },
  {
   "cell_type": "markdown",
   "id": "c1964379-6088-436c-8895-d21b65c887cd",
   "metadata": {},
   "source": [
    "# 🔹 Using sep and end\n"
   ]
  },
  {
   "cell_type": "code",
   "execution_count": 167,
   "id": "cd43cb13-60aa-4700-93df-5990c94c4159",
   "metadata": {},
   "outputs": [
    {
     "name": "stdout",
     "output_type": "stream",
     "text": [
      "A-B-C\n",
      "Hi There\n"
     ]
    }
   ],
   "source": [
    "print(\"A\", \"B\", \"C\", sep=\"-\")   # Output: A-B-C\n",
    "print(\"Hi\", end=\" \")            # No newline\n",
    "print(\"There\")                  # Output: Hi There\n"
   ]
  },
  {
   "cell_type": "markdown",
   "id": "25b5bd18-1874-4414-9b5f-e7133da3fabe",
   "metadata": {},
   "source": [
    "# 🟨 2. input() — Input Function\n"
   ]
  },
  {
   "cell_type": "raw",
   "id": "af107016-4933-41f7-ae73-1d35f502cca2",
   "metadata": {},
   "source": [
    "The input() function is used to get data from the user as a string.\n",
    "\n"
   ]
  },
  {
   "cell_type": "raw",
   "id": "cad07d4b-5813-41c2-9273-27e35ac63d5e",
   "metadata": {},
   "source": [
    "✅ Syntax:\n",
    "variable = input(\"Prompt message\")\n",
    "\n"
   ]
  },
  {
   "cell_type": "markdown",
   "id": "01d7aa89-0e84-4286-a2fe-45db9648479b",
   "metadata": {},
   "source": [
    "# ✅ Example:"
   ]
  },
  {
   "cell_type": "code",
   "execution_count": 173,
   "id": "75cdb74d-af98-4dba-bf83-7b8245e8f420",
   "metadata": {},
   "outputs": [
    {
     "name": "stdin",
     "output_type": "stream",
     "text": [
      "Enter your name:  SRAVANI\n"
     ]
    },
    {
     "name": "stdout",
     "output_type": "stream",
     "text": [
      "Hello SRAVANI\n"
     ]
    }
   ],
   "source": [
    "name = input(\"Enter your name: \")\n",
    "print(\"Hello\", name)\n"
   ]
  },
  {
   "cell_type": "markdown",
   "id": "88e9af91-41cd-4137-a10d-c4dd5f809f81",
   "metadata": {},
   "source": [
    "# 🔄 Important: input() Always Returns a String!"
   ]
  },
  {
   "cell_type": "raw",
   "id": "acca9a62-9dc1-422f-97c6-abd3004bd7e9",
   "metadata": {},
   "source": [
    "To work with numbers, you must convert the input using int(), float(), etc."
   ]
  },
  {
   "cell_type": "code",
   "execution_count": 178,
   "id": "9e6a9d99-1918-4739-ab96-01eaa67c135f",
   "metadata": {},
   "outputs": [
    {
     "name": "stdin",
     "output_type": "stream",
     "text": [
      "Enter first number:  22\n",
      "Enter second number:  23\n"
     ]
    },
    {
     "name": "stdout",
     "output_type": "stream",
     "text": [
      "Sum is: 45\n"
     ]
    }
   ],
   "source": [
    "num1 = int(input(\"Enter first number: \"))\n",
    "num2 = int(input(\"Enter second number: \"))\n",
    "print(\"Sum is:\", num1 + num2)\n"
   ]
  },
  {
   "cell_type": "markdown",
   "id": "90ad6937-65a3-4ea9-9968-173cdaa05b9c",
   "metadata": {},
   "source": [
    "# 🔣 Example: Float Input\n",
    "\n"
   ]
  },
  {
   "cell_type": "code",
   "execution_count": 181,
   "id": "c4d93ce9-3f85-42fc-9eb6-df1e8a8f8b0a",
   "metadata": {},
   "outputs": [
    {
     "name": "stdin",
     "output_type": "stream",
     "text": [
      "Enter length:  2\n",
      "Enter width:  3\n"
     ]
    },
    {
     "name": "stdout",
     "output_type": "stream",
     "text": [
      "Area is: 6.0\n"
     ]
    }
   ],
   "source": [
    "length = float(input(\"Enter length: \"))\n",
    "width = float(input(\"Enter width: \"))\n",
    "area = length * width\n",
    "print(\"Area is:\", area)\n"
   ]
  },
  {
   "cell_type": "markdown",
   "id": "afa2ca2b-cfde-43d0-bc74-c67f38303adf",
   "metadata": {},
   "source": [
    "# 📚 Real-Life Example: Age Calculator"
   ]
  },
  {
   "cell_type": "code",
   "execution_count": 184,
   "id": "591435cc-45f6-4d3b-8bec-81acf6b5f933",
   "metadata": {},
   "outputs": [
    {
     "name": "stdin",
     "output_type": "stream",
     "text": [
      "What is your name?  SRAVANI\n",
      "Enter your birth year:  2004\n"
     ]
    },
    {
     "name": "stdout",
     "output_type": "stream",
     "text": [
      "SRAVANI is 21 years old.\n"
     ]
    }
   ],
   "source": [
    "name = input(\"What is your name? \")\n",
    "birth_year = int(input(\"Enter your birth year: \"))\n",
    "age = 2025 - birth_year\n",
    "print(name, \"is\", age, \"years old.\")\n"
   ]
  },
  {
   "cell_type": "markdown",
   "id": "0a52f170-c6b3-46bb-a660-7fcc62c83337",
   "metadata": {},
   "source": [
    "# OPERATORS IN PYTHON"
   ]
  },
  {
   "cell_type": "markdown",
   "id": "b3c1461b-71b8-4c2e-9a6e-db8065da18c1",
   "metadata": {},
   "source": [
    "# ####✅ 1. Arithmetic Operators"
   ]
  },
  {
   "cell_type": "code",
   "execution_count": 188,
   "id": "ac6ed1a2-0ad9-43fd-beb8-6367b0ac278d",
   "metadata": {},
   "outputs": [
    {
     "name": "stdout",
     "output_type": "stream",
     "text": [
      "Addition: 13\n",
      "Subtraction: 7\n",
      "Multiplication: 30\n",
      "Division: 3.3333333333333335\n",
      "Floor Division: 3\n",
      "Modulus: 1\n",
      "Power: 1000\n"
     ]
    }
   ],
   "source": [
    "#These are used for basic math operations.\n",
    "a = 10\n",
    "b = 3\n",
    "\n",
    "print(\"Addition:\", a + b)         # 13\n",
    "print(\"Subtraction:\", a - b)      # 7\n",
    "print(\"Multiplication:\", a * b)   # 30\n",
    "print(\"Division:\", a / b)         # 3.333...\n",
    "print(\"Floor Division:\", a // b)  # 3\n",
    "print(\"Modulus:\", a % b)          # 1\n",
    "print(\"Power:\", a ** b)           # 1000\n"
   ]
  },
  {
   "cell_type": "markdown",
   "id": "0cd196c0-fc31-41aa-a357-e13eb3a90297",
   "metadata": {},
   "source": [
    "# ✅ 2. Assignment Operators\n"
   ]
  },
  {
   "cell_type": "code",
   "execution_count": 191,
   "id": "65539197-8581-452a-a67c-450af95990c6",
   "metadata": {},
   "outputs": [
    {
     "name": "stdout",
     "output_type": "stream",
     "text": [
      "x += 3: 8\n",
      "x -= 2: 6\n",
      "x *= 4: 24\n",
      "x /= 6: 4.0\n"
     ]
    }
   ],
   "source": [
    "#Used to assign and update variable values.\n",
    "x = 5\n",
    "x += 3     # x = x + 3\n",
    "print(\"x += 3:\", x)    # 8\n",
    "\n",
    "x -= 2     # x = x - 2\n",
    "print(\"x -= 2:\", x)    # 6\n",
    "\n",
    "x *= 4     # x = x * 4\n",
    "print(\"x *= 4:\", x)    # 24\n",
    "\n",
    "x /= 6     # x = x / 6\n",
    "print(\"x /= 6:\", x)    # 4.0\n",
    "\n"
   ]
  },
  {
   "cell_type": "markdown",
   "id": "42575e38-e0c9-456a-80ba-d011d4d8b402",
   "metadata": {},
   "source": [
    "# ✅ 3. Comparison (Relational) Operators\n"
   ]
  },
  {
   "cell_type": "code",
   "execution_count": 194,
   "id": "dcff2506-bf23-46bd-a883-452e46a40d0b",
   "metadata": {},
   "outputs": [
    {
     "name": "stdout",
     "output_type": "stream",
     "text": [
      "Equal: False\n",
      "Not Equal: True\n",
      "Greater Than: True\n",
      "Less Than: False\n",
      "Greater or Equal: True\n",
      "Less or Equal: True\n"
     ]
    }
   ],
   "source": [
    "#Used to compare two values. Result is True or False.\n",
    "\n",
    "a = 10\n",
    "b = 5\n",
    "\n",
    "print(\"Equal:\", a == b)          # False\n",
    "print(\"Not Equal:\", a != b)      # True\n",
    "print(\"Greater Than:\", a > b)    # True\n",
    "print(\"Less Than:\", a < b)       # False\n",
    "print(\"Greater or Equal:\", a >= 10) # True\n",
    "print(\"Less or Equal:\", a <= 10)    # True\n"
   ]
  },
  {
   "cell_type": "markdown",
   "id": "4bd06cb2-5af2-4129-9db7-8da5f752bd23",
   "metadata": {},
   "source": [
    "# ✅ 4. Logical Operators"
   ]
  },
  {
   "cell_type": "code",
   "execution_count": 197,
   "id": "19bd907b-a120-45fa-9c01-5140213ba85b",
   "metadata": {},
   "outputs": [
    {
     "name": "stdout",
     "output_type": "stream",
     "text": [
      "AND: True\n",
      "OR: True\n",
      "NOT: True\n"
     ]
    }
   ],
   "source": [
    "#Used with boolean (True/False) conditions.\n",
    "x = 10\n",
    "y = 5\n",
    "\n",
    "print(\"AND:\", x > 5 and y > 3)   # True\n",
    "print(\"OR:\", x < 5 or y > 3)     # True\n",
    "print(\"NOT:\", not(x < 5))        # True\n"
   ]
  },
  {
   "cell_type": "markdown",
   "id": "54fcbdf9-6373-4a94-a048-67e8c880a16c",
   "metadata": {},
   "source": [
    "# ✅ 5. Identity Operators\n"
   ]
  },
  {
   "cell_type": "code",
   "execution_count": 200,
   "id": "006aea1d-6861-4dee-8d58-b5acd44d75f7",
   "metadata": {},
   "outputs": [
    {
     "name": "stdout",
     "output_type": "stream",
     "text": [
      "a is b: True\n",
      "a is c: False\n",
      "a is not c: True\n"
     ]
    }
   ],
   "source": [
    "#Used to check if two variables refer to the same object.\n",
    "a = [1, 2]\n",
    "b = a\n",
    "c = [1, 2]\n",
    "\n",
    "print(\"a is b:\", a is b)       # True\n",
    "print(\"a is c:\", a is c)       # False\n",
    "print(\"a is not c:\", a is not c) # True\n"
   ]
  },
  {
   "cell_type": "markdown",
   "id": "f0b2a8cd-387b-4686-8666-73ed94bad70a",
   "metadata": {},
   "source": [
    "# ✅ 6. Membership Operators\n"
   ]
  },
  {
   "cell_type": "code",
   "execution_count": 203,
   "id": "8a7734d9-13a9-4405-90aa-ae0fa795f6f0",
   "metadata": {},
   "outputs": [
    {
     "name": "stdout",
     "output_type": "stream",
     "text": [
      "in: True\n",
      "not in: True\n"
     ]
    }
   ],
   "source": [
    "#Used to test if a value is in a sequence (list, string, etc.).\n",
    "\n",
    "fruits = ['apple', 'banana', 'cherry']\n",
    "\n",
    "print(\"in:\", 'banana' in fruits)       # True\n",
    "print(\"not in:\", 'mango' not in fruits) # True\n"
   ]
  },
  {
   "cell_type": "markdown",
   "id": "301896cd-46b0-4b5c-8784-0a92744443b1",
   "metadata": {},
   "source": [
    "# ✅ 7. Bitwise Operators\n"
   ]
  },
  {
   "cell_type": "code",
   "execution_count": 206,
   "id": "2c1d283f-757b-42b2-acf9-8c28c7f35eb0",
   "metadata": {},
   "outputs": [
    {
     "name": "stdout",
     "output_type": "stream",
     "text": [
      "AND: 1\n",
      "OR: 7\n",
      "XOR: 6\n",
      "NOT: -6\n",
      "Left Shift: 10\n",
      "Right Shift: 2\n"
     ]
    }
   ],
   "source": [
    "#Used to perform operations on binary values.\n",
    "a = 5    # 0101\n",
    "b = 3    # 0011\n",
    "\n",
    "print(\"AND:\", a & b)   # 0001 → 1\n",
    "print(\"OR:\", a | b)    # 0111 → 7\n",
    "print(\"XOR:\", a ^ b)   # 0110 → 6\n",
    "print(\"NOT:\", ~a)      # Flip → -6\n",
    "print(\"Left Shift:\", a << 1)  # 1010 → 10\n",
    "print(\"Right Shift:\", a >> 1) # 0010 → 2\n"
   ]
  },
  {
   "cell_type": "markdown",
   "id": "efdd2d71-9cb3-419f-a2e3-9e3e8ee853f5",
   "metadata": {},
   "source": [
    "# DATA STRUCTURES"
   ]
  },
  {
   "cell_type": "raw",
   "id": "e7b5c631-c449-415f-8db8-6664b65f447e",
   "metadata": {},
   "source": [
    "A data structure is a way to store and organize data so it can be used efficiently.\n",
    "\n",
    "Python has built-in data structures that help you store different types of data."
   ]
  },
  {
   "cell_type": "raw",
   "id": "0686b655-3c9f-4219-bdf5-0a6b09f3d487",
   "metadata": {},
   "source": [
    "✅ Types of Data Structures in Python\n",
    "Type\tDescription              Example            Syntax\n",
    "List\tOrdered, changeable, allows duplicates\tmy_list = [1, 2, 3]\n",
    "Tuple\tOrdered, unchangeable, allows duplicates\tmy_tuple = (1, 2, 3)\n",
    "Set\tUnordered, no duplicates\tmy_set = {1, 2, 3}\n",
    "Dictionary\tKey-value pairs, unordered (Python 3.7+ maintains order)\tmy_dict = {\"name\": \"Sravani\"}"
   ]
  },
  {
   "cell_type": "markdown",
   "id": "b8b32774-35c6-4216-998b-cb04eeaa0aec",
   "metadata": {},
   "source": [
    "# 🔸 1. List"
   ]
  },
  {
   "cell_type": "raw",
   "id": "7aa44e2f-63c9-4085-bb42-4329f9d1cb13",
   "metadata": {},
   "source": [
    "Use square brackets []\n",
    "\n",
    "Allows duplicate values\n",
    "\n",
    "You can change (modify) elements"
   ]
  },
  {
   "cell_type": "code",
   "execution_count": 212,
   "id": "fc87c324-4257-4557-adf8-120c29f0de92",
   "metadata": {},
   "outputs": [
    {
     "name": "stdout",
     "output_type": "stream",
     "text": [
      "apple\n",
      "['apple', 'banana', 'cherry', 'orange']\n"
     ]
    }
   ],
   "source": [
    "fruits = [\"apple\", \"banana\", \"cherry\"]\n",
    "print(fruits[0])       # apple\n",
    "fruits.append(\"orange\")\n",
    "print(fruits)          # ['apple', 'banana', 'cherry', 'orange']\n"
   ]
  },
  {
   "cell_type": "markdown",
   "id": "b8db65bb-98d0-44ff-ae6b-ecb4ba9332bf",
   "metadata": {},
   "source": [
    "# 🔸 2. Tuple\n"
   ]
  },
  {
   "cell_type": "raw",
   "id": "06dc9790-3502-4c11-8dd9-94d77ef933f0",
   "metadata": {},
   "source": [
    "Use round brackets ()\n",
    "\n",
    "Similar to a list, but cannot be changed\n",
    "\n",
    "Faster than lists\n",
    "\n",
    "python\n",
    "Copy\n",
    "Edit\n"
   ]
  },
  {
   "cell_type": "code",
   "execution_count": 215,
   "id": "b4fbc3e2-530d-4fc4-85bc-7625d8d30073",
   "metadata": {},
   "outputs": [
    {
     "name": "stdout",
     "output_type": "stream",
     "text": [
      "green\n"
     ]
    }
   ],
   "source": [
    "colors = (\"red\", \"green\", \"blue\")\n",
    "print(colors[1])        # green\n",
    "# colors[1] = \"yellow\"  # ❌ Error: Tuples are immutable\n"
   ]
  },
  {
   "cell_type": "markdown",
   "id": "f5548db1-0469-491b-b042-566b35cdc601",
   "metadata": {},
   "source": [
    "# 🔸 3. Set"
   ]
  },
  {
   "cell_type": "raw",
   "id": "ef263402-633b-4dbd-9c3c-ea73a873f72f",
   "metadata": {},
   "source": [
    "# Use curly brackets {} or set()\n",
    "\n",
    "No duplicate values allowed\n",
    "\n",
    "Unordered (no indexing)"
   ]
  },
  {
   "cell_type": "code",
   "execution_count": 218,
   "id": "ea8d7103-2606-48dc-a57d-82e4a26be190",
   "metadata": {},
   "outputs": [
    {
     "name": "stdout",
     "output_type": "stream",
     "text": [
      "{1, 2, 3}\n",
      "{1, 2, 3, 4}\n"
     ]
    }
   ],
   "source": [
    "numbers = {1, 2, 3, 2, 1}\n",
    "print(numbers)          # {1, 2, 3} (duplicates removed)\n",
    "numbers.add(4)\n",
    "print(numbers)          # {1, 2, 3, 4}\n"
   ]
  },
  {
   "cell_type": "markdown",
   "id": "4028cce2-d93f-4e83-bed0-4e0ed6961520",
   "metadata": {},
   "source": [
    "# 🔸 4. Dictionary (dict)"
   ]
  },
  {
   "cell_type": "raw",
   "id": "54300629-8cd6-4077-b76c-13ddd146c7ea",
   "metadata": {},
   "source": [
    "Stores data as key: value pairs\n",
    "\n",
    "Keys are unique\n",
    "\n",
    "Use curly braces {}"
   ]
  },
  {
   "cell_type": "code",
   "execution_count": 221,
   "id": "67bf11f2-3852-4b9e-b4d6-d1472319651d",
   "metadata": {},
   "outputs": [
    {
     "name": "stdout",
     "output_type": "stream",
     "text": [
      "Sravani\n",
      "{'name': 'Sravani', 'age': 23, 'course': 'Python'}\n"
     ]
    }
   ],
   "source": [
    "student = {\n",
    "    \"name\": \"Sravani\",\n",
    "    \"age\": 22,\n",
    "    \"course\": \"Python\"\n",
    "}\n",
    "print(student[\"name\"])     # Sravani\n",
    "student[\"age\"] = 23\n",
    "print(student)             # {'name': 'Sravani', 'age': 23, 'course': 'Python'}\n"
   ]
  },
  {
   "cell_type": "raw",
   "id": "5fcba08f-0aef-4fae-97b1-2757b4af2532",
   "metadata": {},
   "source": [
    "# Data Structure\tOrdered?\tChangeable?\tDuplicates?\tSyntax\n",
    "List\t               ✅ Yes\t   ✅ Yes\t✅ Yes\t     []\n",
    "Tuple\t               ✅ Yes\t   ❌ No\t✅ Yes\t     ()\n",
    "Set\t                   ❌ No\t   ✅ Yes\t❌ No        {} or set()\n",
    "Dictionary\t           ✅ Yes\t   ✅ Yes\t Keys ❌\t {key: value}"
   ]
  },
  {
   "cell_type": "markdown",
   "id": "4bb61ab8-0eee-4f8c-9dc4-1c41209690ed",
   "metadata": {},
   "source": [
    "# Conditional Statements"
   ]
  },
  {
   "cell_type": "raw",
   "id": "c3a3e858-5c37-4871-82c1-3bef6f0bee38",
   "metadata": {},
   "source": [
    "Conditional statements allow your program to make decisions and run code only when a certain condition is True."
   ]
  },
  {
   "cell_type": "markdown",
   "id": "2238217f-b433-4fe7-bee7-72a7c93bd3d9",
   "metadata": {},
   "source": [
    "# ✅ Types of Conditional Statements in Python:\n"
   ]
  },
  {
   "cell_type": "raw",
   "id": "ddd35efa-b7d8-4b2c-b62a-5762274313c0",
   "metadata": {},
   "source": [
    "Statement\tDescription\n",
    "if\t         Runs a block of code if the condition is true\n",
    "else\t     Runs a block of code if the if is false\n",
    "elif\t     Stands for \"else if\", checks more conditions\n",
    "nested if\t Using if inside another if"
   ]
  },
  {
   "cell_type": "markdown",
   "id": "5c2fafa4-b911-4ed3-af41-9e830a99177a",
   "metadata": {},
   "source": [
    "# 1. if Statement\n",
    "\n"
   ]
  },
  {
   "cell_type": "code",
   "execution_count": 227,
   "id": "8b6121b6-9465-4c04-a7dd-974227ce557f",
   "metadata": {},
   "outputs": [
    {
     "name": "stdout",
     "output_type": "stream",
     "text": [
      "You are eligible to vote.\n"
     ]
    }
   ],
   "source": [
    "age = 18\n",
    "\n",
    "if age >= 18:\n",
    "    print(\"You are eligible to vote.\")\n"
   ]
  },
  {
   "cell_type": "markdown",
   "id": "54c0fe02-664f-4f74-900c-d04dc705f167",
   "metadata": {},
   "source": [
    "# ✅ Explanation: The code inside the if block runs only if the condition is True."
   ]
  },
  {
   "cell_type": "markdown",
   "id": "391fac5e-9f14-4c35-bfe9-f190ba8d1004",
   "metadata": {},
   "source": [
    "# 🔹 2. if-else Statement"
   ]
  },
  {
   "cell_type": "code",
   "execution_count": 231,
   "id": "99116e31-d7ba-4d8e-8085-c47d336b4fbe",
   "metadata": {},
   "outputs": [
    {
     "name": "stdout",
     "output_type": "stream",
     "text": [
      "You are not eligible to vote.\n"
     ]
    }
   ],
   "source": [
    "age = 16\n",
    "\n",
    "if age >= 18:\n",
    "    print(\"You are eligible to vote.\")\n",
    "else:\n",
    "    print(\"You are not eligible to vote.\")\n"
   ]
  },
  {
   "cell_type": "markdown",
   "id": "7d45796d-d839-4498-b1c8-6a75525a6101",
   "metadata": {},
   "source": [
    "# ✅ Explanation: If the condition is false, the else block runs."
   ]
  },
  {
   "cell_type": "markdown",
   "id": "3fd85476-0b60-45c0-800c-7951e7ac38a8",
   "metadata": {},
   "source": [
    "# 🔹 3. if-elif-else Statement\n",
    "\n"
   ]
  },
  {
   "cell_type": "code",
   "execution_count": 237,
   "id": "655d1ee8-d94f-4dc4-b166-40a8d0e43553",
   "metadata": {},
   "outputs": [
    {
     "name": "stdout",
     "output_type": "stream",
     "text": [
      "Grade B\n"
     ]
    }
   ],
   "source": [
    "marks = 75\n",
    "\n",
    "if marks >= 90:\n",
    "    print(\"Grade A\")\n",
    "elif marks >= 75:\n",
    "    print(\"Grade B\")\n",
    "elif marks >= 60:\n",
    "    print(\"Grade C\")\n",
    "else:\n",
    "    print(\"Grade D\")\n"
   ]
  },
  {
   "cell_type": "markdown",
   "id": "8c4e2109-93ee-4031-9a78-808e5c1f4ad5",
   "metadata": {},
   "source": [
    "# ✅ Explanation: Python checks each condition one by one until one is True."
   ]
  },
  {
   "cell_type": "markdown",
   "id": "b80ae149-e863-464e-b8f6-bffbdf4b0555",
   "metadata": {},
   "source": [
    "# 🔹 4. Nested if Statement"
   ]
  },
  {
   "cell_type": "code",
   "execution_count": 240,
   "id": "158bd192-f9dc-499e-8020-9d7ef839f893",
   "metadata": {},
   "outputs": [
    {
     "name": "stdout",
     "output_type": "stream",
     "text": [
      "Positive even number\n"
     ]
    }
   ],
   "source": [
    " num = 10\n",
    "\n",
    "if num > 0:\n",
    "    if num % 2 == 0:\n",
    "        print(\"Positive even number\")\n",
    "    else:\n",
    "        print(\"Positive odd number\")\n",
    "else:\n",
    "    print(\"Number is not positive\")\n"
   ]
  },
  {
   "cell_type": "markdown",
   "id": "84acd57d-969a-445b-96f2-f6fdae85e5ed",
   "metadata": {},
   "source": [
    "# 🔹 5. Short Hand if (One-Line if)"
   ]
  },
  {
   "cell_type": "code",
   "execution_count": 243,
   "id": "76e8174f-896a-4818-bdcc-3ad5d86f7e49",
   "metadata": {},
   "outputs": [
    {
     "name": "stdout",
     "output_type": "stream",
     "text": [
      "x is greater than 5\n"
     ]
    }
   ],
   "source": [
    "x = 10\n",
    "if x > 5: print(\"x is greater than 5\")\n"
   ]
  },
  {
   "cell_type": "markdown",
   "id": "3bbd80bc-58ef-4fd8-9881-c6532e65bbc7",
   "metadata": {},
   "source": [
    "# 🔹 6. Short Hand if-else (Ternary Operator)\n",
    "\n"
   ]
  },
  {
   "cell_type": "code",
   "execution_count": 246,
   "id": "f97046cf-49ab-4c59-9473-654726313744",
   "metadata": {},
   "outputs": [
    {
     "name": "stdout",
     "output_type": "stream",
     "text": [
      "b is greater\n"
     ]
    }
   ],
   "source": [
    "a = 10\n",
    "b = 20\n",
    "\n",
    "print(\"a is greater\") if a > b else print(\"b is greater\")\n"
   ]
  },
  {
   "cell_type": "markdown",
   "id": "e935b5e4-78b8-45a8-b7c6-bde8af6b4696",
   "metadata": {},
   "source": [
    "# 🧪 Real-Life Example: Login"
   ]
  },
  {
   "cell_type": "code",
   "execution_count": 249,
   "id": "3e899617-6b1e-4881-a0c3-50c2941f5fb8",
   "metadata": {},
   "outputs": [
    {
     "name": "stdout",
     "output_type": "stream",
     "text": [
      "Login successful\n"
     ]
    }
   ],
   "source": [
    "username = \"admin\"\n",
    "password = \"1234\"\n",
    "\n",
    "if username == \"admin\" and password == \"1234\":\n",
    "    print(\"Login successful\")\n",
    "else:\n",
    "    print(\"Invalid login\")\n"
   ]
  },
  {
   "cell_type": "markdown",
   "id": "0b61ad08-201a-4a80-b11d-fd34182df01d",
   "metadata": {},
   "source": [
    "# Loops in python"
   ]
  },
  {
   "cell_type": "markdown",
   "id": "86ce1bd9-6c05-4dec-85f6-e10d570b23d1",
   "metadata": {},
   "source": [
    "# 🔁 What is a Loop?"
   ]
  },
  {
   "cell_type": "raw",
   "id": "c212d2a3-23b7-44db-9a1f-618d21480ddf",
   "metadata": {},
   "source": [
    "A loop is used to repeat a block of code multiple times — either for a fixed number of times or until a condition is met.\n",
    "\n"
   ]
  },
  {
   "cell_type": "markdown",
   "id": "e958b0b1-bdb2-462e-8ab2-21cda2e6d12d",
   "metadata": {},
   "source": [
    "# ✅ Types of Loops in Python:"
   ]
  },
  {
   "cell_type": "raw",
   "id": "b8505cfa-c2c1-452b-a1bb-b29bc57ab8c2",
   "metadata": {},
   "source": [
    "Loop Type\tUsed For\n",
    "for loop\tRepeat over a sequence (list, range, etc.)\n",
    "while loop\tRepeat while a condition is true\n",
    "nested loop\tA loop inside another loop\n",
    "\n"
   ]
  },
  {
   "cell_type": "markdown",
   "id": "092563d0-c450-45d5-a846-ec753e2a38db",
   "metadata": {},
   "source": [
    "# 🔸 1. for loop\n"
   ]
  },
  {
   "cell_type": "code",
   "execution_count": 255,
   "id": "25f377f5-f1d1-411a-826d-a809c279a9b6",
   "metadata": {},
   "outputs": [
    {
     "name": "stdout",
     "output_type": "stream",
     "text": [
      "1\n",
      "2\n",
      "3\n",
      "4\n",
      "5\n"
     ]
    }
   ],
   "source": [
    "#Used to iterate over a sequence like list, tuple, string, or range.\n",
    "\n",
    "for i in range(1, 6):\n",
    "    print(i)\n"
   ]
  },
  {
   "cell_type": "markdown",
   "id": "245c8b7d-b4e0-46e6-b3c3-3588b3031f86",
   "metadata": {},
   "source": [
    "# 📘 Example: loop through a list\n",
    "\n"
   ]
  },
  {
   "cell_type": "code",
   "execution_count": 258,
   "id": "2163c00a-5c3b-46ee-ba91-be94b96278df",
   "metadata": {},
   "outputs": [
    {
     "name": "stdout",
     "output_type": "stream",
     "text": [
      "apple\n",
      "banana\n",
      "cherry\n"
     ]
    }
   ],
   "source": [
    "fruits = [\"apple\", \"banana\", \"cherry\"]\n",
    "for fruit in fruits:\n",
    "    print(fruit)\n"
   ]
  },
  {
   "cell_type": "markdown",
   "id": "7fbf809b-1581-412b-b269-e55c31679c42",
   "metadata": {},
   "source": [
    "# 🔸 2. while loop\n"
   ]
  },
  {
   "cell_type": "code",
   "execution_count": 261,
   "id": "14abdf55-a69d-4b64-9968-4d0ba0358612",
   "metadata": {},
   "outputs": [
    {
     "name": "stdout",
     "output_type": "stream",
     "text": [
      "1\n",
      "2\n",
      "3\n",
      "4\n",
      "5\n"
     ]
    }
   ],
   "source": [
    "#Repeats a block while a condition is true.\n",
    "i = 1\n",
    "while i <= 5:\n",
    "    print(i)\n",
    "    i += 1\n",
    "\n"
   ]
  },
  {
   "cell_type": "markdown",
   "id": "0316b071-11aa-4edb-8b85-3aaee390d941",
   "metadata": {},
   "source": [
    "# 🔸 3. break and continue\n"
   ]
  },
  {
   "cell_type": "raw",
   "id": "ebde2cf7-f91e-48e3-bf29-2eac6fe31ad0",
   "metadata": {},
   "source": [
    "#Keyword\tMeaning\n",
    "break\tExit the loop immediately\n",
    "continue\tSkip the rest of the current loop iteration\n"
   ]
  },
  {
   "cell_type": "code",
   "execution_count": 266,
   "id": "563db082-434d-4a66-a586-28cdf3e1b164",
   "metadata": {},
   "outputs": [
    {
     "name": "stdout",
     "output_type": "stream",
     "text": [
      "1\n",
      "2\n",
      "3\n",
      "4\n"
     ]
    }
   ],
   "source": [
    "for i in range(1, 10):\n",
    "    if i == 5:\n",
    "        break\n",
    "    print(i)   # Prints 1 to 4\n"
   ]
  },
  {
   "cell_type": "code",
   "execution_count": 268,
   "id": "afad95a0-1af7-443d-8bdf-4bdc8648da19",
   "metadata": {},
   "outputs": [
    {
     "name": "stdout",
     "output_type": "stream",
     "text": [
      "1\n",
      "2\n",
      "4\n",
      "5\n"
     ]
    }
   ],
   "source": [
    "for i in range(1, 6):\n",
    "    if i == 3:\n",
    "        continue\n",
    "    print(i)   # Prints 1, 2, 4, 5\n"
   ]
  },
  {
   "cell_type": "markdown",
   "id": "c71d1b1a-250b-482a-991e-a7c453e6d3d5",
   "metadata": {},
   "source": [
    "# 🔸 4. nested loops\n"
   ]
  },
  {
   "cell_type": "markdown",
   "id": "a5fd6727-8f56-4d5f-9129-40464b8edc03",
   "metadata": {},
   "source": [
    "# 📘 Example: Print a pattern\n",
    "\n"
   ]
  },
  {
   "cell_type": "code",
   "execution_count": 272,
   "id": "ce71d626-558f-4e45-9e9f-ddb81ef52d32",
   "metadata": {},
   "outputs": [
    {
     "name": "stdout",
     "output_type": "stream",
     "text": [
      "* * * \n",
      "* * * \n",
      "* * * \n"
     ]
    }
   ],
   "source": [
    "for i in range(1, 4):\n",
    "    for j in range(1, 4):\n",
    "        print(\"*\", end=\" \")\n",
    "    print()\n"
   ]
  },
  {
   "cell_type": "markdown",
   "id": "dd510a3c-e1dc-4066-99d9-9cc4fbf47051",
   "metadata": {},
   "source": [
    "# 🧠 range() Function\n"
   ]
  },
  {
   "cell_type": "code",
   "execution_count": 275,
   "id": "81cc45d3-56b7-4495-91e9-befe9af57ed7",
   "metadata": {},
   "outputs": [
    {
     "name": "stdout",
     "output_type": "stream",
     "text": [
      "2\n",
      "4\n",
      "6\n",
      "8\n"
     ]
    }
   ],
   "source": [
    "#range(start, stop, step) is used in for loops.\n",
    "for i in range(2, 10, 2):  # start=2, end=9, step=2\n",
    "    print(i)\n",
    "\n",
    "\n"
   ]
  },
  {
   "cell_type": "markdown",
   "id": "6ba6d207-43ca-4159-b13a-b65f673ff9ab",
   "metadata": {},
   "source": [
    "# 🧪 Example Program: Sum of 1 to 10\n",
    "\n"
   ]
  },
  {
   "cell_type": "code",
   "execution_count": 278,
   "id": "8074df67-069d-48da-9b1e-eecb3fb90579",
   "metadata": {},
   "outputs": [
    {
     "name": "stdout",
     "output_type": "stream",
     "text": [
      "Sum: 55\n"
     ]
    }
   ],
   "source": [
    "total = 0\n",
    "for i in range(1, 11):\n",
    "    total += i\n",
    "print(\"Sum:\", total)  # Output: 55\n"
   ]
  },
  {
   "cell_type": "markdown",
   "id": "c73297c9-977e-4482-aa42-57567d4bc2f1",
   "metadata": {},
   "source": [
    "# FUNCTIONS IN PYTHON"
   ]
  },
  {
   "cell_type": "raw",
   "id": "9e4c918b-0d22-4ae2-b35c-93f6edd8d9dc",
   "metadata": {},
   "source": [
    "A function is a block of reusable code that performs a specific task.\n",
    "\n",
    "Instead of writing the same code again and again, we can put it in a function and call it whenever needed.\n",
    "\n"
   ]
  },
  {
   "cell_type": "markdown",
   "id": "0d975a7a-55af-4d45-8c94-1bcbb80d138d",
   "metadata": {},
   "source": [
    "# ✅ Why Use Functions?\n",
    "Avoid code repetition\n",
    "\n",
    "Make code more organized\n",
    "\n",
    "Easy to update and reuse\n",
    "\n",
    "Helps with debugging and teamwork"
   ]
  },
  {
   "cell_type": "code",
   "execution_count": 285,
   "id": "9d7ad875-f4a2-4648-940c-03daa09b279f",
   "metadata": {},
   "outputs": [],
   "source": [
    "def function_name(parameters):\n",
    "    # code block\n",
    "    return result\n"
   ]
  },
  {
   "cell_type": "markdown",
   "id": "79d9a001-3fb7-46cf-94f1-6e20d3b05697",
   "metadata": {},
   "source": [
    "# 🔸 1. Defining and Calling a Function1"
   ]
  },
  {
   "cell_type": "code",
   "execution_count": 290,
   "id": "9dc5840c-a804-466c-9948-e93f0b438024",
   "metadata": {},
   "outputs": [
    {
     "name": "stdout",
     "output_type": "stream",
     "text": [
      "Hello, welcome to Python!\n"
     ]
    }
   ],
   "source": [
    "def greet():\n",
    "    print(\"Hello, welcome to Python!\")\n",
    "\n",
    "greet()  # Call the function\n"
   ]
  },
  {
   "cell_type": "markdown",
   "id": "0d64760f-ab67-42da-86ed-d2b57b71f90e",
   "metadata": {},
   "source": [
    "# 🔸 2. Function with Parameters\n",
    "\n"
   ]
  },
  {
   "cell_type": "code",
   "execution_count": 293,
   "id": "46a4337b-8bc6-40b7-b1a5-4c31ef54ccac",
   "metadata": {},
   "outputs": [
    {
     "name": "stdout",
     "output_type": "stream",
     "text": [
      "Hello Sravani\n"
     ]
    }
   ],
   "source": [
    "def greet(name):\n",
    "    print(\"Hello\", name)\n",
    "\n",
    "greet(\"Sravani\")  # Output: Hello Sravani\n"
   ]
  },
  {
   "cell_type": "markdown",
   "id": "d1952ac5-cf87-4f8e-942f-61cb73a93f67",
   "metadata": {},
   "source": [
    "# 🔸 3. Function with Return Value"
   ]
  },
  {
   "cell_type": "code",
   "execution_count": 296,
   "id": "1aea4998-9e81-4bb7-a92a-c7a2ecdf5049",
   "metadata": {},
   "outputs": [
    {
     "name": "stdout",
     "output_type": "stream",
     "text": [
      "Sum: 8\n"
     ]
    }
   ],
   "source": [
    "def add(a, b):\n",
    "    return a + b\n",
    "\n",
    "result = add(5, 3)\n",
    "print(\"Sum:\", result)  # Output: Sum: 8\n"
   ]
  },
  {
   "cell_type": "markdown",
   "id": "ccc1ab13-4879-4c4d-9720-9b8ebff918ed",
   "metadata": {},
   "source": [
    "# 🔸 4. Function with Default Parameters"
   ]
  },
  {
   "cell_type": "code",
   "execution_count": 299,
   "id": "3428961c-964c-4618-8d09-164b9a2bdec9",
   "metadata": {},
   "outputs": [
    {
     "name": "stdout",
     "output_type": "stream",
     "text": [
      "Hello Guest\n",
      "Hello Sravani\n"
     ]
    }
   ],
   "source": [
    "def greet(name=\"Guest\"):\n",
    "    print(\"Hello\", name)\n",
    "\n",
    "greet()           # Output: Hello Guest\n",
    "greet(\"Sravani\")  # Output: Hello Sravani\n"
   ]
  },
  {
   "cell_type": "markdown",
   "id": "23eb8558-eb51-4f89-bc61-214517b503b5",
   "metadata": {},
   "source": [
    "# 🔸 5. Function with Multiple Return Values"
   ]
  },
  {
   "cell_type": "code",
   "execution_count": 302,
   "id": "6f2ce4a0-bf0f-4f7e-b0db-157d41f36bcc",
   "metadata": {},
   "outputs": [
    {
     "name": "stdout",
     "output_type": "stream",
     "text": [
      "Sum: 15\n",
      "Difference: 5\n"
     ]
    }
   ],
   "source": [
    "def calculate(x, y):\n",
    "    sum_ = x + y\n",
    "    diff = x - y\n",
    "    return sum_, diff\n",
    "\n",
    "a, b = calculate(10, 5)\n",
    "print(\"Sum:\", a)      # 15\n",
    "print(\"Difference:\", b)  # 5\n"
   ]
  },
  {
   "cell_type": "markdown",
   "id": "c3de6d94-c746-4aca-9ca4-37afe1853641",
   "metadata": {},
   "source": [
    "# 🔸 6. Lambda Function (Anonymous Function)"
   ]
  },
  {
   "cell_type": "code",
   "execution_count": 305,
   "id": "1fb11c41-86ab-4378-8ed4-a368f20a1f52",
   "metadata": {},
   "outputs": [
    {
     "name": "stdout",
     "output_type": "stream",
     "text": [
      "7\n"
     ]
    }
   ],
   "source": [
    "#Useful for short functions without def.\n",
    "add = lambda a, b: a + b\n",
    "print(add(3, 4))  # Output: 7\n"
   ]
  },
  {
   "cell_type": "markdown",
   "id": "0fb604d4-bd6a-4643-a4e2-572cd79c5ac8",
   "metadata": {},
   "source": [
    "# 🧪 Real-World Example"
   ]
  },
  {
   "cell_type": "code",
   "execution_count": 308,
   "id": "7aac010d-4979-41e5-8207-10264c69e9ff",
   "metadata": {},
   "outputs": [
    {
     "name": "stdout",
     "output_type": "stream",
     "text": [
      "True\n",
      "False\n"
     ]
    }
   ],
   "source": [
    "def is_even(num):\n",
    "    if num % 2 == 0:\n",
    "        return True\n",
    "    else:\n",
    "        return False\n",
    "\n",
    "print(is_even(4))  # True\n",
    "print(is_even(7))  # False\n"
   ]
  },
  {
   "cell_type": "markdown",
   "id": "bc6c3eb4-dce8-44ad-9c2a-91a980151cae",
   "metadata": {},
   "source": [
    "# Math Functions"
   ]
  },
  {
   "cell_type": "markdown",
   "id": "085620d6-ef17-47c3-b4dd-82ea71ebea5f",
   "metadata": {},
   "source": [
    "# .🧠 What Are Math Functions?\n",
    "Python has a built-in math module that provides many common mathematical functions.\n",
    "\n",
    "To use them, you must first import the module:\n",
    "\n",
    "python\n",
    "Copy\n",
    "Edit\n"
   ]
  },
  {
   "cell_type": "code",
   "execution_count": 312,
   "id": "08d614f8-5a54-4834-99c7-8a9e49ccbd53",
   "metadata": {},
   "outputs": [],
   "source": [
    "import math\n"
   ]
  },
  {
   "cell_type": "code",
   "execution_count": 314,
   "id": "a8e159d6-7b73-46a1-a337-42e3177d5a28",
   "metadata": {},
   "outputs": [
    {
     "name": "stdout",
     "output_type": "stream",
     "text": [
      "Square Root of 16: 4.0\n",
      "2 power 3: 8.0\n",
      "Floor of 4.8: 4\n",
      "Ceil of 4.2: 5\n",
      "Factorial of 5: 120\n",
      "Sine of 90°: 1.0\n"
     ]
    }
   ],
   "source": [
    "import math\n",
    "\n",
    "print(\"Square Root of 16:\", math.sqrt(16))         # 4.0\n",
    "print(\"2 power 3:\", math.pow(2, 3))                # 8.0\n",
    "print(\"Floor of 4.8:\", math.floor(4.8))            # 4\n",
    "print(\"Ceil of 4.2:\", math.ceil(4.2))              # 5\n",
    "print(\"Factorial of 5:\", math.factorial(5))        # 120\n",
    "print(\"Sine of 90°:\", math.sin(math.radians(90)))  # 1.0\n"
   ]
  },
  {
   "cell_type": "markdown",
   "id": "42f7982f-a1bd-40b2-b52b-f6bc59820400",
   "metadata": {},
   "source": [
    "# 💡 Tip:\n",
    "Use math.radians() if you want to convert degrees to radians before using sin, cos, or tan.\n",
    "\n",
    "math.pow() returns float, while ** (exponent) gives int or float depending on input."
   ]
  },
  {
   "cell_type": "code",
   "execution_count": 319,
   "id": "16f3749c-1fb3-411d-b621-97977d93757e",
   "metadata": {},
   "outputs": [
    {
     "name": "stdout",
     "output_type": "stream",
     "text": [
      "Area of circle: 78.53981633974483\n"
     ]
    }
   ],
   "source": [
    "#📝 Real-World Use Case\n",
    "#Example: Area of a Circle\n",
    "import math\n",
    "\n",
    "r = 5\n",
    "area = math.pi * r**2\n",
    "print(\"Area of circle:\", area)\n",
    "\n"
   ]
  },
  {
   "cell_type": "code",
   "execution_count": 321,
   "id": "6b616381-3f5b-454c-bbdd-04a3c0c36d66",
   "metadata": {},
   "outputs": [
    {
     "name": "stdout",
     "output_type": "stream",
     "text": [
      "7\n"
     ]
    }
   ],
   "source": [
    "import math\n",
    "print(math.ceil(3.2) + math.floor(3.8))\n"
   ]
  },
  {
   "cell_type": "markdown",
   "id": "64da305c-af42-4316-82a8-a97567d2bc16",
   "metadata": {},
   "source": [
    "# ✅ Python Code: All Math Functions\n",
    "\n"
   ]
  },
  {
   "cell_type": "code",
   "execution_count": 324,
   "id": "a0ceef0f-0079-4a20-951f-e28573db53b2",
   "metadata": {},
   "outputs": [
    {
     "name": "stdout",
     "output_type": "stream",
     "text": [
      "Square root of 16: 4.0\n",
      "2 to the power of 3: 8.0\n",
      "Absolute value of -10: 10.0\n",
      "Floor of 4.7: 4\n",
      "Ceil of 4.1: 5\n",
      "Factorial of 5: 120\n",
      "Value of pi: 3.141592653589793\n",
      "Value of e: 2.718281828459045\n",
      "Natural log of 10: 2.302585092994046\n",
      "Log base 10 of 1000: 3.0\n",
      "Sine of 90 degrees: 1.0\n",
      "Cosine of 0 degrees: 1.0\n",
      "Tangent of 45 degrees: 0.9999999999999999\n",
      "Convert 180° to radians: 3.141592653589793\n",
      "Convert π radians to degrees: 180.0\n"
     ]
    }
   ],
   "source": [
    "import math\n",
    "\n",
    "# Square root\n",
    "print(\"Square root of 16:\", math.sqrt(16))  # 4.0\n",
    "\n",
    "# Power\n",
    "print(\"2 to the power of 3:\", math.pow(2, 3))  # 8.0\n",
    "\n",
    "# Absolute value\n",
    "print(\"Absolute value of -10:\", math.fabs(-10))  # 10.0\n",
    "\n",
    "# Floor and Ceil\n",
    "print(\"Floor of 4.7:\", math.floor(4.7))  # 4\n",
    "print(\"Ceil of 4.1:\", math.ceil(4.1))    # 5\n",
    "\n",
    "# Factorial\n",
    "print(\"Factorial of 5:\", math.factorial(5))  # 120\n",
    "\n",
    "# Pi and e\n",
    "print(\"Value of pi:\", math.pi)\n",
    "print(\"Value of e:\", math.e)\n",
    "\n",
    "# Natural log (base e)\n",
    "print(\"Natural log of 10:\", math.log(10))  # ≈ 2.302\n",
    "\n",
    "# Log base 10\n",
    "print(\"Log base 10 of 1000:\", math.log10(1000))  # 3.0\n",
    "\n",
    "# Trigonometric functions\n",
    "print(\"Sine of 90 degrees:\", math.sin(math.radians(90)))  # 1.0\n",
    "print(\"Cosine of 0 degrees:\", math.cos(math.radians(0)))  # 1.0\n",
    "print(\"Tangent of 45 degrees:\", math.tan(math.radians(45)))  # ≈ 1.0\n",
    "\n",
    "# Angle conversions\n",
    "print(\"Convert 180° to radians:\", math.radians(180))  # ≈ 3.14159\n",
    "print(\"Convert π radians to degrees:\", math.degrees(math.pi))  # 180\n"
   ]
  },
  {
   "cell_type": "markdown",
   "id": "83b7cec1-177b-454c-9a94-c2d519790847",
   "metadata": {},
   "source": [
    "# Type conversion and Type casting"
   ]
  },
  {
   "cell_type": "raw",
   "id": "7c79ebff-2077-4fab-86d4-7030caa29325",
   "metadata": {},
   "source": [
    "#Type conversion\n",
    "Type conversion is the process of changing the data type of a variable or value from one type to another — like converting an int to a float, or a string to an int.\n",
    "\n"
   ]
  },
  {
   "cell_type": "markdown",
   "id": "f08c7e22-9e3d-4785-8ec9-74902736d34f",
   "metadata": {},
   "source": [
    "# ✅ Two Types of Type Conversion in Python:\n"
   ]
  },
  {
   "cell_type": "raw",
   "id": "d9d6da5a-4480-4cf1-93b4-2e47f83bae00",
   "metadata": {},
   "source": [
    "Type\tWho Does It?\tExample\n",
    "Implicit Conversion\tPython automatically\tint + float → float\n",
    "Explicit Conversion\tYou manually convert\tstr(\"123\") → int(1"
   ]
  },
  {
   "cell_type": "markdown",
   "id": "49542bde-9f27-4459-a046-dbc88fff1fba",
   "metadata": {},
   "source": [
    "# 🔹 1. Implicit Type Conversion\n"
   ]
  },
  {
   "cell_type": "code",
   "execution_count": 330,
   "id": "e7cbce5a-16e7-418a-b88a-fe1720769a2c",
   "metadata": {},
   "outputs": [
    {
     "name": "stdout",
     "output_type": "stream",
     "text": [
      "7.5\n",
      "<class 'float'>\n"
     ]
    }
   ],
   "source": [
    "#✅ Done automatically by Python when combining different types.\n",
    "a = 5       # int\n",
    "b = 2.5     # float\n",
    "\n",
    "result = a + b   # int + float\n",
    "print(result)    # 7.5\n",
    "print(type(result))  # <class 'float'>\n"
   ]
  },
  {
   "cell_type": "code",
   "execution_count": 332,
   "id": "21aa19a1-fcd4-4281-a423-3fdb49bffde8",
   "metadata": {},
   "outputs": [
    {
     "name": "stdout",
     "output_type": "stream",
     "text": [
      "7.5\n",
      "<class 'float'>\n"
     ]
    }
   ],
   "source": [
    "#✔️ Python automatically converted int (5) to float (5.0) to avoid data loss.\n",
    "\n",
    "a = 5       # int\n",
    "b = 2.5     # float\n",
    "\n",
    "result = a + b   # int + float\n",
    "print(result)    # 7.5\n",
    "print(type(result))  # <class 'float'>\n"
   ]
  },
  {
   "cell_type": "markdown",
   "id": "5f1b0333-7e24-41c1-9a63-f030bc8e9a12",
   "metadata": {},
   "source": [
    "# 🔹 2. Explicit Type Conversion (Type Casting)"
   ]
  },
  {
   "cell_type": "raw",
   "id": "1e3499f1-cc21-436e-9d15-8a7f3e5a6b9d",
   "metadata": {},
   "source": [
    "#✅ You manually convert one type to another using functions:\n",
    "\n",
    "Function\tConverts To\n",
    "int()\tInteger\n",
    "float()\tFloat\n",
    "str()\tString\n",
    "bool()\tBoolean"
   ]
  },
  {
   "cell_type": "code",
   "execution_count": 335,
   "id": "96927100-8316-4b00-8b8e-528b47b881b4",
   "metadata": {},
   "outputs": [
    {
     "name": "stdout",
     "output_type": "stream",
     "text": [
      "124\n"
     ]
    }
   ],
   "source": [
    "s = \"123\"\n",
    "n = int(s)      # string to int\n",
    "print(n + 1)    # 124\n"
   ]
  },
  {
   "cell_type": "markdown",
   "id": "7ff8069f-bdd1-4ed5-9354-756662eb56e1",
   "metadata": {},
   "source": [
    "# 🎯 Why Use Type Conversion?\n",
    "To perform calculations (e.g., convert user input string to number)\n",
    "\n",
    "To display or format data (e.g., convert int to string)\n",
    "\n",
    "To clean or validate data"
   ]
  },
  {
   "cell_type": "markdown",
   "id": "dac6d57b-bdd3-45d6-a174-e8f227ba31f5",
   "metadata": {},
   "source": [
    "# ✅ Type Casting Examples in Python"
   ]
  },
  {
   "cell_type": "markdown",
   "id": "bb466a46-2011-4522-ac9b-d6d9be4b70d8",
   "metadata": {},
   "source": [
    "# 🔹 1. String to Integer"
   ]
  },
  {
   "cell_type": "code",
   "execution_count": 340,
   "id": "6cd1e7da-26c8-49f3-8fa3-c4faba875eec",
   "metadata": {},
   "outputs": [
    {
     "name": "stdout",
     "output_type": "stream",
     "text": [
      "110\n"
     ]
    }
   ],
   "source": [
    "s = \"100\"\n",
    "num = int(s)\n",
    "print(num + 10)      # Output: 110\n",
    "#✅ str → int"
   ]
  },
  {
   "cell_type": "markdown",
   "id": "fb90fda0-2d24-49d6-9313-e4f271c86966",
   "metadata": {},
   "source": [
    "# 🔹 2. Integer to Float"
   ]
  },
  {
   "cell_type": "code",
   "execution_count": 343,
   "id": "39052de4-32d7-4786-8f9c-c0814dfb1b42",
   "metadata": {},
   "outputs": [
    {
     "name": "stdout",
     "output_type": "stream",
     "text": [
      "5.0\n"
     ]
    }
   ],
   "source": [
    "x = 5\n",
    "f = float(x)\n",
    "print(f)             # Output: 5.0\n",
    "#✅ int → float"
   ]
  },
  {
   "cell_type": "markdown",
   "id": "87c4428a-2311-4cd7-a9c4-6c90f0d7ca6a",
   "metadata": {},
   "source": [
    "# 🔹 3. Float to Integer"
   ]
  },
  {
   "cell_type": "code",
   "execution_count": 346,
   "id": "7ccd29d9-8c75-42d3-b983-d259eaa7d879",
   "metadata": {},
   "outputs": [
    {
     "name": "stdout",
     "output_type": "stream",
     "text": [
      "3\n"
     ]
    }
   ],
   "source": [
    "pi = 3.14159\n",
    "whole = int(pi)\n",
    "print(whole)         # Output: 3 (decimal part is removed)\n",
    "#✅ float → int (⚠️ no rounding, just cuts off decimals)"
   ]
  },
  {
   "cell_type": "markdown",
   "id": "60028fea-c45f-4738-8baf-3423cef2e6ce",
   "metadata": {},
   "source": [
    "# 🔹 4. Integer to String"
   ]
  },
  {
   "cell_type": "code",
   "execution_count": 351,
   "id": "d3de775e-f3f2-4c73-a71c-48a1f61f9937",
   "metadata": {},
   "outputs": [
    {
     "name": "stdout",
     "output_type": "stream",
     "text": [
      "Your age is 22\n"
     ]
    }
   ],
   "source": [
    "age = 22\n",
    "text = \"Your age is \" + str(age)\n",
    "print(text)          # Output: Your age is 22\n",
    "#✅ int → str"
   ]
  },
  {
   "cell_type": "markdown",
   "id": "999fe236-377a-45c3-8134-d0d21114c59b",
   "metadata": {},
   "source": [
    "# 🔹 5. String to Float"
   ]
  },
  {
   "cell_type": "code",
   "execution_count": 354,
   "id": "d37e9dab-fb2c-4aac-9dad-a686b0128ce6",
   "metadata": {},
   "outputs": [
    {
     "name": "stdout",
     "output_type": "stream",
     "text": [
      "6.0\n"
     ]
    }
   ],
   "source": [
    "s = \"4.56\"\n",
    "num = float(s)\n",
    "print(num + 1.44)    # Output: 6.0\n",
    "#✅ str → float"
   ]
  },
  {
   "cell_type": "markdown",
   "id": "ee2e8b57-a3e0-437c-bea4-ec362df0561a",
   "metadata": {},
   "source": [
    "# 🔹 6. Boolean to Integer"
   ]
  },
  {
   "cell_type": "code",
   "execution_count": 359,
   "id": "5d2b3ce6-eeea-403d-8382-e35cc3a99c3d",
   "metadata": {},
   "outputs": [
    {
     "name": "stdout",
     "output_type": "stream",
     "text": [
      "1\n",
      "0\n"
     ]
    }
   ],
   "source": [
    "print(int(True))     # Output: 1\n",
    "print(int(False))    # Output: 0\n",
    "#✅ bool → int"
   ]
  },
  {
   "cell_type": "markdown",
   "id": "000e9123-2d2e-47a3-b637-ad0ad9f88ff9",
   "metadata": {},
   "source": [
    "# 🔹 7. List to Set (removes duplicates)"
   ]
  },
  {
   "cell_type": "code",
   "execution_count": 362,
   "id": "241ed7fa-b394-47a0-8fe1-354b9d355f5d",
   "metadata": {},
   "outputs": [
    {
     "name": "stdout",
     "output_type": "stream",
     "text": [
      "{1, 2, 3}\n"
     ]
    }
   ],
   "source": [
    "nums = [1, 2, 2, 3]\n",
    "unique_nums = set(nums)\n",
    "print(unique_nums)   # Output: {1, 2, 3}\n",
    "#✅ list → set"
   ]
  },
  {
   "cell_type": "markdown",
   "id": "7cd83932-1f36-4a85-aa2c-bf582155cfdc",
   "metadata": {},
   "source": [
    "# 🔹 8. Integer to Boolean"
   ]
  },
  {
   "cell_type": "code",
   "execution_count": 365,
   "id": "babaeed6-a3a4-40d4-8982-16bdae7bb96c",
   "metadata": {},
   "outputs": [
    {
     "name": "stdout",
     "output_type": "stream",
     "text": [
      "False\n",
      "True\n"
     ]
    }
   ],
   "source": [
    "print(bool(0))       # Output: False\n",
    "print(bool(5))       # Output: True\n",
    "# int → bool\n",
    "#🔸 Only 0 is False; everything else is True."
   ]
  },
  {
   "cell_type": "markdown",
   "id": "e47deada-b320-4bcb-877e-ef7924dfaa04",
   "metadata": {},
   "source": [
    "# 🔹 9. Tuple to List\n",
    "\n"
   ]
  },
  {
   "cell_type": "code",
   "execution_count": 368,
   "id": "6d0bea15-6368-460b-8c4c-3996df712545",
   "metadata": {},
   "outputs": [
    {
     "name": "stdout",
     "output_type": "stream",
     "text": [
      "[1, 2, 3]\n"
     ]
    }
   ],
   "source": [
    "t = (1, 2, 3)\n",
    "l = list(t)\n",
    "print(l)             # Output: [1, 2, 3]\n",
    "#✅ tuple → list"
   ]
  },
  {
   "cell_type": "markdown",
   "id": "6efcd565-6216-4b6c-8ab9-2d0417db0cdc",
   "metadata": {},
   "source": [
    "# Comments in Python"
   ]
  },
  {
   "cell_type": "raw",
   "id": "f81ba482-2ecc-47f0-9006-b4c3a4cb0127",
   "metadata": {},
   "source": [
    "A comment is a line in your code that Python does not execute.\n",
    "\n",
    "✅ It's written only for humans, not the computer.\n",
    "✅ It helps explain what your code is doing.\n",
    "\n"
   ]
  },
  {
   "cell_type": "markdown",
   "id": "a7f27f92-4f39-4d0b-81fb-e73269bd417a",
   "metadata": {},
   "source": [
    "# 💡 Why Are Comments Important?\n",
    "To explain your code for yourself and others\n",
    "\n",
    "To make code easy to read and understand\n",
    "\n",
    "To ignore a line temporarily while testing/debugging\n",
    "\n"
   ]
  },
  {
   "cell_type": "markdown",
   "id": "52c6e5ce-aa90-478e-9cb9-9cd7433c8a4b",
   "metadata": {},
   "source": [
    "# ✅ Types of Comments in Python:\n",
    "🔹 1. Single-line Comment\n",
    "Starts with #\n",
    "Python ignores everything after # on that line.1"
   ]
  },
  {
   "cell_type": "code",
   "execution_count": 373,
   "id": "7f49dc00-aea2-4f84-8122-b4ee20a1a967",
   "metadata": {},
   "outputs": [
    {
     "name": "stdout",
     "output_type": "stream",
     "text": [
      "Hello, World!\n"
     ]
    }
   ],
   "source": [
    "# This prints a welcome message\n",
    "print(\"Hello, World!\")  # This is also a comment\n"
   ]
  },
  {
   "cell_type": "raw",
   "id": "ea990cf7-3092-45fb-acc7-68bdb39534d4",
   "metadata": {},
   "source": [
    "\n",
    "🗣️ Explanation: Both comments are ignored when the program runs.\n",
    "\n"
   ]
  },
  {
   "cell_type": "markdown",
   "id": "e97e6ada-cda9-4af7-859a-75678f7cd451",
   "metadata": {},
   "source": [
    "# 🔹 2. Multi-line Comment (Using Triple Quotes)"
   ]
  },
  {
   "cell_type": "code",
   "execution_count": 378,
   "id": "5cfe51e5-18d1-4713-82be-4b952efa564f",
   "metadata": {},
   "outputs": [],
   "source": [
    "#Python does not have a true multi-line comment, but you can use:\n",
    "#''' or \"\"\" \n",
    "#(triple quotes)\n"
   ]
  },
  {
   "cell_type": "raw",
   "id": "d027357c-d0ac-45b9-897e-e70236f08ef5",
   "metadata": {},
   "source": [
    "These are usually used for:\n",
    "\n",
    "Docstrings (documentation)\n",
    "\n",
    "Multi-line explanations"
   ]
  },
  {
   "cell_type": "code",
   "execution_count": 380,
   "id": "ea605ddb-540b-4f2d-99fc-7c1b250ff03f",
   "metadata": {},
   "outputs": [
    {
     "name": "stdout",
     "output_type": "stream",
     "text": [
      "Python is awesome!\n"
     ]
    }
   ],
   "source": [
    "'''\n",
    "This is a multi-line comment.\n",
    "You can write as many lines as you want.\n",
    "Python will ignore this block.\n",
    "'''\n",
    "print(\"Python is awesome!\")\n"
   ]
  },
  {
   "cell_type": "markdown",
   "id": "c0ce2530-d6c5-406c-9b2d-204b8bf88871",
   "metadata": {},
   "source": [
    "# ⚠️ Note: Triple quotes create a string. Since we didn’t assign it to a variable, Python ignores it."
   ]
  },
  {
   "cell_type": "markdown",
   "id": "e11150f1-e726-46d4-90b5-280698c9b809",
   "metadata": {},
   "source": [
    "# 🔹 3. Docstrings (Documentation Strings)"
   ]
  },
  {
   "cell_type": "code",
   "execution_count": 388,
   "id": "790993c8-b102-44af-aaa5-3027a138a190",
   "metadata": {},
   "outputs": [],
   "source": [
    "#Special comments used inside functions or classes to describe what they do.\n",
    "def add(a, b):\n",
    "    \"\"\"This function adds two numbers and returns the result.\"\"\"\n",
    "    return a + b\n"
   ]
  },
  {
   "cell_type": "code",
   "execution_count": 390,
   "id": "2c058e58-c029-4338-9713-49c904682786",
   "metadata": {},
   "outputs": [],
   "source": [
    "#💡 Used by developers and tools to generate help or documentation.\n",
    "\n"
   ]
  },
  {
   "cell_type": "markdown",
   "id": "70bd5a26-bc86-4dd0-be65-91b66955df92",
   "metadata": {},
   "source": [
    "# 🧪 Real-Life Example with Comments:"
   ]
  },
  {
   "cell_type": "code",
   "execution_count": 393,
   "id": "6b0846a6-3c0d-4b83-9dec-8c62efc1774d",
   "metadata": {},
   "outputs": [
    {
     "name": "stdout",
     "output_type": "stream",
     "text": [
      "Area of the circle is: 78.53975\n"
     ]
    }
   ],
   "source": [
    "# Program to calculate the area of a circle\n",
    "\n",
    "radius = 5  # radius in meters\n",
    "pi = 3.14159\n",
    "\n",
    "# Formula: area = π × r²\n",
    "area = pi * radius ** 2\n",
    "\n",
    "print(\"Area of the circle is:\", area)\n"
   ]
  },
  {
   "cell_type": "code",
   "execution_count": null,
   "id": "d5d14804-be05-483a-8dc4-52edc8ebfd3d",
   "metadata": {},
   "outputs": [],
   "source": []
  }
 ],
 "metadata": {
  "kernelspec": {
   "display_name": "Python [conda env:base] *",
   "language": "python",
   "name": "conda-base-py"
  },
  "language_info": {
   "codemirror_mode": {
    "name": "ipython",
    "version": 3
   },
   "file_extension": ".py",
   "mimetype": "text/x-python",
   "name": "python",
   "nbconvert_exporter": "python",
   "pygments_lexer": "ipython3",
   "version": "3.12.7"
  }
 },
 "nbformat": 4,
 "nbformat_minor": 5
}
